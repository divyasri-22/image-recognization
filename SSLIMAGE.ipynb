{
  "nbformat": 4,
  "nbformat_minor": 0,
  "metadata": {
    "colab": {
      "provenance": [],
      "authorship_tag": "ABX9TyOzJXatmRrrWQI/CbwqrLFj",
      "include_colab_link": true
    },
    "kernelspec": {
      "name": "python3",
      "display_name": "Python 3"
    },
    "language_info": {
      "name": "python"
    }
  },
  "cells": [
    {
      "cell_type": "markdown",
      "metadata": {
        "id": "view-in-github",
        "colab_type": "text"
      },
      "source": [
        "<a href=\"https://colab.research.google.com/github/divyasri-22/image-recognization/blob/main/SSLIMAGE.ipynb\" target=\"_parent\"><img src=\"https://colab.research.google.com/assets/colab-badge.svg\" alt=\"Open In Colab\"/></a>"
      ]
    },
    {
      "cell_type": "code",
      "execution_count": 3,
      "metadata": {
        "colab": {
          "base_uri": "https://localhost:8080/"
        },
        "id": "C1qC5U0BHQ8O",
        "outputId": "f534b9b3-5da4-4834-d000-d8e1940bcf23"
      },
      "outputs": [
        {
          "output_type": "stream",
          "name": "stdout",
          "text": [
            "Overwriting app.py\n"
          ]
        }
      ],
      "source": [
        "%%writefile app.py\n",
        "import streamlit as st\n",
        "from PIL import Image\n",
        "import torch\n",
        "import torchvision.transforms as transforms\n",
        "import torchvision.models as models\n",
        "import numpy as np\n",
        "import matplotlib.pyplot as plt\n",
        "from sklearn.metrics.pairwise import cosine_similarity\n",
        "\n",
        "st.set_page_config(page_title=\"SSL Image Recognition\", page_icon=\"🧠\", layout=\"wide\")\n",
        "st.title(\"🔍 Self-Supervised Learning: Image Recognition & Similarity Demo\")\n",
        "st.write(\"**Upload two images to see how similar they are based on embeddings from ResNet50.**\")\n",
        "\n",
        "@st.cache_resource\n",
        "def load_model():\n",
        "    model = models.resnet50(pretrained=True)\n",
        "    model.eval()\n",
        "    return model\n",
        "\n",
        "model = load_model()\n",
        "\n",
        "transform = transforms.Compose([\n",
        "    transforms.Resize((224, 224)),\n",
        "    transforms.ToTensor(),\n",
        "    transforms.Normalize(mean=[0.485, 0.456, 0.406],\n",
        "                         std=[0.229, 0.224, 0.225])\n",
        "])\n",
        "\n",
        "col1, col2 = st.columns(2)\n",
        "with col1:\n",
        "    img1_file = st.file_uploader(\"Upload first image\", type=[\"jpg\", \"jpeg\", \"png\"], key=\"1\")\n",
        "with col2:\n",
        "    img2_file = st.file_uploader(\"Upload second image\", type=[\"jpg\", \"jpeg\", \"png\"], key=\"2\")\n",
        "\n",
        "def get_embedding(image):\n",
        "    img_t = transform(image).unsqueeze(0)\n",
        "    with torch.no_grad():\n",
        "        embedding = model(img_t).squeeze().numpy()\n",
        "    return embedding\n",
        "\n",
        "if img1_file and img2_file:\n",
        "    img1 = Image.open(img1_file).convert('RGB')\n",
        "    img2 = Image.open(img2_file).convert('RGB')\n",
        "\n",
        "    col1, col2 = st.columns(2)\n",
        "    with col1:\n",
        "        st.image(img1, caption=\"Image 1\", use_container_width=True)\n",
        "    with col2:\n",
        "        st.image(img2, caption=\"Image 2\", use_container_width=True)\n",
        "\n",
        "    with st.spinner(\"Generating embeddings...\"):\n",
        "        emb1 = get_embedding(img1)\n",
        "        emb2 = get_embedding(img2)\n",
        "\n",
        "    similarity = cosine_similarity([emb1], [emb2])[0][0]\n",
        "    similarity_score = round(similarity * 100, 2)\n",
        "\n",
        "    st.subheader(f\"Similarity Score: **{similarity_score}%**\")\n",
        "    if similarity_score > 70:\n",
        "        st.success(\"These images are quite similar!\")\n",
        "    elif similarity_score > 40:\n",
        "        st.warning(\"Somewhat similar.\")\n",
        "    else:\n",
        "        st.error(\"Not very similar.\")\n",
        "\n",
        "    st.write(\"### Embedding Visualization (Top 20 values of Image 1)\")\n",
        "    fig, ax = plt.subplots(figsize=(10, 4))\n",
        "    ax.bar(range(20), emb1[:20])\n",
        "    ax.set_title(\"Embedding Values (Top 20)\")\n",
        "    st.pyplot(fig)\n"
      ]
    },
    {
      "cell_type": "code",
      "source": [
        "!wget -q https://github.com/cloudflare/cloudflared/releases/latest/download/cloudflared-linux-amd64 -O cloudflared\n",
        "!chmod +x cloudflared\n"
      ],
      "metadata": {
        "id": "HPvnfRvQHZVr"
      },
      "execution_count": 4,
      "outputs": []
    },
    {
      "cell_type": "code",
      "source": [
        "!pip install streamlit -q\n",
        "!streamlit run app.py & sleep 5 && ./cloudflared tunnel --url http://localhost:8501\n"
      ],
      "metadata": {
        "colab": {
          "base_uri": "https://localhost:8080/"
        },
        "id": "dlOJWVzwIaaL",
        "outputId": "6285fa03-0b07-419e-b2c4-d5e7bf5a90c9"
      },
      "execution_count": null,
      "outputs": [
        {
          "output_type": "stream",
          "name": "stdout",
          "text": [
            "\n",
            "Collecting usage statistics. To deactivate, set browser.gatherUsageStats to false.\n",
            "\u001b[0m\n",
            "\u001b[0m\n",
            "\u001b[34m\u001b[1m  You can now view your Streamlit app in your browser.\u001b[0m\n",
            "\u001b[0m\n",
            "\u001b[34m  Local URL: \u001b[0m\u001b[1mhttp://localhost:8501\u001b[0m\n",
            "\u001b[34m  Network URL: \u001b[0m\u001b[1mhttp://172.28.0.12:8501\u001b[0m\n",
            "\u001b[34m  External URL: \u001b[0m\u001b[1mhttp://35.187.147.143:8501\u001b[0m\n",
            "\u001b[0m\n",
            "\u001b[90m2025-07-27T13:43:02Z\u001b[0m \u001b[32mINF\u001b[0m Thank you for trying Cloudflare Tunnel. Doing so, without a Cloudflare account, is a quick way to experiment and try it out. However, be aware that these account-less Tunnels have no uptime guarantee, are subject to the Cloudflare Online Services Terms of Use (https://www.cloudflare.com/website-terms/), and Cloudflare reserves the right to investigate your use of Tunnels for violations of such terms. If you intend to use Tunnels in production you should use a pre-created named tunnel by following: https://developers.cloudflare.com/cloudflare-one/connections/connect-apps\n",
            "\u001b[90m2025-07-27T13:43:02Z\u001b[0m \u001b[32mINF\u001b[0m Requesting new quick Tunnel on trycloudflare.com...\n",
            "\u001b[90m2025-07-27T13:43:06Z\u001b[0m \u001b[32mINF\u001b[0m +--------------------------------------------------------------------------------------------+\n",
            "\u001b[90m2025-07-27T13:43:06Z\u001b[0m \u001b[32mINF\u001b[0m |  Your quick Tunnel has been created! Visit it at (it may take some time to be reachable):  |\n",
            "\u001b[90m2025-07-27T13:43:06Z\u001b[0m \u001b[32mINF\u001b[0m |  https://marks-oliver-manufacture-sk.trycloudflare.com                                     |\n",
            "\u001b[90m2025-07-27T13:43:06Z\u001b[0m \u001b[32mINF\u001b[0m +--------------------------------------------------------------------------------------------+\n",
            "\u001b[90m2025-07-27T13:43:06Z\u001b[0m \u001b[32mINF\u001b[0m Cannot determine default configuration path. No file [config.yml config.yaml] in [~/.cloudflared ~/.cloudflare-warp ~/cloudflare-warp /etc/cloudflared /usr/local/etc/cloudflared]\n",
            "\u001b[90m2025-07-27T13:43:06Z\u001b[0m \u001b[32mINF\u001b[0m Version 2025.7.0 (Checksum 51e3909335fd7ba2ed5c696b0a6fb7d4a74f6a15bf36615cea0fccba620cfb3f)\n",
            "\u001b[90m2025-07-27T13:43:06Z\u001b[0m \u001b[32mINF\u001b[0m GOOS: linux, GOVersion: go1.24.4, GoArch: amd64\n",
            "\u001b[90m2025-07-27T13:43:06Z\u001b[0m \u001b[32mINF\u001b[0m Settings: map[ha-connections:1 protocol:quic url:http://localhost:8501]\n",
            "\u001b[90m2025-07-27T13:43:06Z\u001b[0m \u001b[32mINF\u001b[0m cloudflared will not automatically update when run from the shell. To enable auto-updates, run cloudflared as a service: https://developers.cloudflare.com/cloudflare-one/connections/connect-apps/configure-tunnels/local-management/as-a-service/\n",
            "\u001b[90m2025-07-27T13:43:06Z\u001b[0m \u001b[32mINF\u001b[0m Generated Connector ID: b5c9ae6f-4b45-426a-b2b2-07e265e47016\n",
            "\u001b[90m2025-07-27T13:43:06Z\u001b[0m \u001b[32mINF\u001b[0m Initial protocol quic\n",
            "\u001b[90m2025-07-27T13:43:06Z\u001b[0m \u001b[32mINF\u001b[0m ICMP proxy will use 172.28.0.12 as source for IPv4\n",
            "\u001b[90m2025-07-27T13:43:06Z\u001b[0m \u001b[32mINF\u001b[0m ICMP proxy will use :: as source for IPv6\n",
            "\u001b[90m2025-07-27T13:43:06Z\u001b[0m \u001b[32mINF\u001b[0m ICMP proxy will use 172.28.0.12 as source for IPv4\n",
            "\u001b[90m2025-07-27T13:43:06Z\u001b[0m \u001b[32mINF\u001b[0m ICMP proxy will use :: as source for IPv6\n",
            "\u001b[90m2025-07-27T13:43:06Z\u001b[0m \u001b[32mINF\u001b[0m Starting metrics server on 127.0.0.1:20241/metrics\n",
            "\u001b[90m2025-07-27T13:43:06Z\u001b[0m \u001b[32mINF\u001b[0m Tunnel connection curve preferences: [X25519MLKEM768 CurveP256] \u001b[36mconnIndex=\u001b[0m0 \u001b[36mevent=\u001b[0m0 \u001b[36mip=\u001b[0m198.41.192.227\n",
            "2025/07/27 13:43:06 failed to sufficiently increase receive buffer size (was: 208 kiB, wanted: 7168 kiB, got: 416 kiB). See https://github.com/quic-go/quic-go/wiki/UDP-Buffer-Sizes for details.\n",
            "\u001b[90m2025-07-27T13:43:07Z\u001b[0m \u001b[32mINF\u001b[0m Registered tunnel connection \u001b[36mconnIndex=\u001b[0m0 \u001b[36mconnection=\u001b[0m65747511-8505-4092-88e4-ee324bee452a \u001b[36mevent=\u001b[0m0 \u001b[36mip=\u001b[0m198.41.192.227 \u001b[36mlocation=\u001b[0mhkg01 \u001b[36mprotocol=\u001b[0mquic\n",
            "/usr/local/lib/python3.11/dist-packages/torchvision/models/_utils.py:208: UserWarning: The parameter 'pretrained' is deprecated since 0.13 and may be removed in the future, please use 'weights' instead.\n",
            "  warnings.warn(\n",
            "/usr/local/lib/python3.11/dist-packages/torchvision/models/_utils.py:223: UserWarning: Arguments other than a weight enum or `None` for 'weights' are deprecated since 0.13 and may be removed in the future. The current behavior is equivalent to passing `weights=ResNet50_Weights.IMAGENET1K_V1`. You can also use `weights=ResNet50_Weights.DEFAULT` to get the most up-to-date weights.\n",
            "  warnings.warn(msg)\n",
            "Downloading: \"https://download.pytorch.org/models/resnet50-0676ba61.pth\" to /root/.cache/torch/hub/checkpoints/resnet50-0676ba61.pth\n",
            "100% 97.8M/97.8M [00:02<00:00, 39.0MB/s]\n"
          ]
        }
      ]
    }
  ]
}